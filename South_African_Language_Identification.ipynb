{
 "cells": [
  {
   "cell_type": "markdown",
   "id": "a39e2971",
   "metadata": {},
   "source": [
    "# EDSA 2022 Classification Hackathon\n",
    "\n",
    "### South African Language Identification"
   ]
  },
  {
   "cell_type": "markdown",
   "id": "196480c2",
   "metadata": {},
   "source": [
    "© Explore Data Science Academy (Accelerator)\n"
   ]
  },
  {
   "cell_type": "markdown",
   "id": "8f25a058",
   "metadata": {},
   "source": [
    "# Introduction\n",
    "\n",
    "South Africa is a multicultural society that is characterised by its rich linguistic diversity, with eleven(11) official languages. Most South Africans are multilingual and able to speak at least two or more of the official languages.\n",
    "\n",
    "As systems and devices in South-Africa communicate in these multi-languages, in this challenge, we will take text which is in any of South Africa's 11 Official languages and identify which language the text is in.\n",
    "\n"
   ]
  },
  {
   "cell_type": "code",
   "execution_count": 2,
   "id": "60603481",
   "metadata": {},
   "outputs": [
    {
     "name": "stdout",
     "output_type": "stream",
     "text": [
      "Requirement already satisfied: xgboost in c:\\users\\nigeria\\anaconda3\\lib\\site-packages (1.5.2)\n",
      "Requirement already satisfied: numpy in c:\\users\\nigeria\\anaconda3\\lib\\site-packages (from xgboost) (1.22.3)\n",
      "Requirement already satisfied: scipy in c:\\users\\nigeria\\anaconda3\\lib\\site-packages (from xgboost) (1.6.2)\n"
     ]
    }
   ],
   "source": [
    "!pip install xgboost"
   ]
  },
  {
   "cell_type": "code",
   "execution_count": 1,
   "id": "2f5a8ead",
   "metadata": {},
   "outputs": [],
   "source": [
    "#Importing all necessary libraries\n",
    "\n",
    "import pandas as pd\n",
    "import numpy as np\n",
    "import matplotlib.pyplot as plt\n",
    "%matplotlib inline\n",
    "from matplotlib.colors import ListedColormap\n",
    "from wordcloud import WordCloud\n",
    "\n",
    "from nltk.tokenize import word_tokenize, TreebankWordTokenizer\n",
    "import nltk\n",
    "from nltk.corpus import stopwords\n",
    "import string\n",
    "\n",
    "from sklearn.feature_extraction.text import CountVectorizer, TfidfVectorizer\n",
    "\n",
    "from sklearn.model_selection import cross_val_score\n",
    "from sklearn.model_selection import train_test_split\n",
    "from sklearn import metrics\n",
    "\n",
    "from sklearn.preprocessing import StandardScaler\n",
    "from sklearn.datasets import make_moons, make_circles, make_classification\n",
    "from sklearn.feature_selection import SelectKBest\n",
    "from sklearn.feature_selection import f_classif\n",
    "\n",
    "from xgboost import XGBClassifier\n",
    "from xgboost import XGBRFClassifier\n",
    "from sklearn.naive_bayes import GaussianNB\n",
    "from sklearn.neural_network import MLPClassifier\n",
    "from sklearn.neighbors import KNeighborsClassifier\n",
    "from sklearn.svm import SVC\n",
    "from sklearn.linear_model import LogisticRegression\n",
    "from sklearn.discriminant_analysis import LinearDiscriminantAnalysis\n",
    "from sklearn.discriminant_analysis import QuadraticDiscriminantAnalysis\n",
    "from sklearn.tree import DecisionTreeClassifier\n",
    "from sklearn.ensemble import RandomForestClassifier, AdaBoostClassifier"
   ]
  },
  {
   "cell_type": "code",
   "execution_count": 13,
   "id": "f8648784",
   "metadata": {},
   "outputs": [
    {
     "name": "stdout",
     "output_type": "stream",
     "text": [
      "First 5 rows of the train data\n"
     ]
    },
    {
     "data": {
      "text/html": [
       "<div>\n",
       "<style scoped>\n",
       "    .dataframe tbody tr th:only-of-type {\n",
       "        vertical-align: middle;\n",
       "    }\n",
       "\n",
       "    .dataframe tbody tr th {\n",
       "        vertical-align: top;\n",
       "    }\n",
       "\n",
       "    .dataframe thead th {\n",
       "        text-align: right;\n",
       "    }\n",
       "</style>\n",
       "<table border=\"1\" class=\"dataframe\">\n",
       "  <thead>\n",
       "    <tr style=\"text-align: right;\">\n",
       "      <th></th>\n",
       "      <th>index</th>\n",
       "      <th>text</th>\n",
       "    </tr>\n",
       "  </thead>\n",
       "  <tbody>\n",
       "    <tr>\n",
       "      <th>5677</th>\n",
       "      <td>5678</td>\n",
       "      <td>You mark your ballot in private.</td>\n",
       "    </tr>\n",
       "    <tr>\n",
       "      <th>5678</th>\n",
       "      <td>5679</td>\n",
       "      <td>Ge o ka kgetha ka bowena go se šomiše Mofani k...</td>\n",
       "    </tr>\n",
       "    <tr>\n",
       "      <th>5679</th>\n",
       "      <td>5680</td>\n",
       "      <td>E Ka kopo etsa kgetho ya hao ka hloko, hobane ...</td>\n",
       "    </tr>\n",
       "    <tr>\n",
       "      <th>5680</th>\n",
       "      <td>5681</td>\n",
       "      <td>TB ke bokudi ba PMB, mme Morero o tla lefella ...</td>\n",
       "    </tr>\n",
       "    <tr>\n",
       "      <th>5681</th>\n",
       "      <td>5682</td>\n",
       "      <td>Vakatjhela iwebhusayidi yethu ku-www.</td>\n",
       "    </tr>\n",
       "  </tbody>\n",
       "</table>\n",
       "</div>"
      ],
      "text/plain": [
       "      index                                               text\n",
       "5677   5678                   You mark your ballot in private.\n",
       "5678   5679  Ge o ka kgetha ka bowena go se šomiše Mofani k...\n",
       "5679   5680  E Ka kopo etsa kgetho ya hao ka hloko, hobane ...\n",
       "5680   5681  TB ke bokudi ba PMB, mme Morero o tla lefella ...\n",
       "5681   5682              Vakatjhela iwebhusayidi yethu ku-www."
      ]
     },
     "metadata": {},
     "output_type": "display_data"
    },
    {
     "name": "stdout",
     "output_type": "stream",
     "text": [
      "\n",
      "\n",
      "\n",
      "First 5 rows of the test data\n"
     ]
    },
    {
     "data": {
      "text/html": [
       "<div>\n",
       "<style scoped>\n",
       "    .dataframe tbody tr th:only-of-type {\n",
       "        vertical-align: middle;\n",
       "    }\n",
       "\n",
       "    .dataframe tbody tr th {\n",
       "        vertical-align: top;\n",
       "    }\n",
       "\n",
       "    .dataframe thead th {\n",
       "        text-align: right;\n",
       "    }\n",
       "</style>\n",
       "<table border=\"1\" class=\"dataframe\">\n",
       "  <thead>\n",
       "    <tr style=\"text-align: right;\">\n",
       "      <th></th>\n",
       "      <th>index</th>\n",
       "      <th>text</th>\n",
       "    </tr>\n",
       "  </thead>\n",
       "  <tbody>\n",
       "    <tr>\n",
       "      <th>5677</th>\n",
       "      <td>5678</td>\n",
       "      <td>You mark your ballot in private.</td>\n",
       "    </tr>\n",
       "    <tr>\n",
       "      <th>5678</th>\n",
       "      <td>5679</td>\n",
       "      <td>Ge o ka kgetha ka bowena go se šomiše Mofani k...</td>\n",
       "    </tr>\n",
       "    <tr>\n",
       "      <th>5679</th>\n",
       "      <td>5680</td>\n",
       "      <td>E Ka kopo etsa kgetho ya hao ka hloko, hobane ...</td>\n",
       "    </tr>\n",
       "    <tr>\n",
       "      <th>5680</th>\n",
       "      <td>5681</td>\n",
       "      <td>TB ke bokudi ba PMB, mme Morero o tla lefella ...</td>\n",
       "    </tr>\n",
       "    <tr>\n",
       "      <th>5681</th>\n",
       "      <td>5682</td>\n",
       "      <td>Vakatjhela iwebhusayidi yethu ku-www.</td>\n",
       "    </tr>\n",
       "  </tbody>\n",
       "</table>\n",
       "</div>"
      ],
      "text/plain": [
       "      index                                               text\n",
       "5677   5678                   You mark your ballot in private.\n",
       "5678   5679  Ge o ka kgetha ka bowena go se šomiše Mofani k...\n",
       "5679   5680  E Ka kopo etsa kgetho ya hao ka hloko, hobane ...\n",
       "5680   5681  TB ke bokudi ba PMB, mme Morero o tla lefella ...\n",
       "5681   5682              Vakatjhela iwebhusayidi yethu ku-www."
      ]
     },
     "metadata": {},
     "output_type": "display_data"
    }
   ],
   "source": [
    "#Importing the datasets\n",
    "train_df = pd.read_csv('train_set.csv')\n",
    "test_df = pd.read_csv('test_set.csv')\n",
    "\n",
    "#Viewing a slice of the datframe\n",
    "print(\"First 5 rows of the train data\")\n",
    "display(test_df.tail())\n",
    "\n",
    "print(\"\\n\\n\")\n",
    "\n",
    "print('First 5 rows of the test data')\n",
    "display(test_df.tail())"
   ]
  },
  {
   "cell_type": "markdown",
   "id": "81206825",
   "metadata": {},
   "source": []
  },
  {
   "cell_type": "code",
   "execution_count": 3,
   "id": "bce59fee",
   "metadata": {},
   "outputs": [
    {
     "name": "stdout",
     "output_type": "stream",
     "text": [
      "<class 'pandas.core.frame.DataFrame'>\n",
      "RangeIndex: 33000 entries, 0 to 32999\n",
      "Data columns (total 2 columns):\n",
      " #   Column   Non-Null Count  Dtype \n",
      "---  ------   --------------  ----- \n",
      " 0   lang_id  33000 non-null  object\n",
      " 1   text     33000 non-null  object\n",
      "dtypes: object(2)\n",
      "memory usage: 515.8+ KB\n",
      "\n",
      "\n",
      " None \n",
      "\n",
      "\n",
      "         count unique                                                top  freq\n",
      "lang_id  33000     11                                                xho  3000\n",
      "text     33000  29948  ngokwesekhtjheni yomthetho ophathelene nalokhu...    17\n"
     ]
    }
   ],
   "source": [
    "#Info and Description on dataset\n",
    "print(\"\\n\\n\", train_df.info(), \"\\n\\n\")\n",
    "print(train_df.describe().T)"
   ]
  },
  {
   "cell_type": "code",
   "execution_count": 4,
   "id": "043b39da",
   "metadata": {},
   "outputs": [
    {
     "data": {
      "text/html": [
       "<style type=\"text/css\">\n",
       "#T_d70f3_row0_col1, #T_d70f3_row1_col1, #T_d70f3_row2_col1, #T_d70f3_row3_col1, #T_d70f3_row4_col1, #T_d70f3_row5_col1, #T_d70f3_row6_col1, #T_d70f3_row7_col1, #T_d70f3_row8_col1, #T_d70f3_row9_col1, #T_d70f3_row10_col1 {\n",
       "  background-color: #f7fbff;\n",
       "  color: #000000;\n",
       "}\n",
       "</style>\n",
       "<table id=\"T_d70f3\">\n",
       "  <thead>\n",
       "    <tr>\n",
       "      <th class=\"blank level0\" >&nbsp;</th>\n",
       "      <th id=\"T_d70f3_level0_col0\" class=\"col_heading level0 col0\" >lang_id</th>\n",
       "      <th id=\"T_d70f3_level0_col1\" class=\"col_heading level0 col1\" >text</th>\n",
       "    </tr>\n",
       "  </thead>\n",
       "  <tbody>\n",
       "    <tr>\n",
       "      <th id=\"T_d70f3_level0_row0\" class=\"row_heading level0 row0\" >0</th>\n",
       "      <td id=\"T_d70f3_row0_col0\" class=\"data row0 col0\" >afr</td>\n",
       "      <td id=\"T_d70f3_row0_col1\" class=\"data row0 col1\" >3000</td>\n",
       "    </tr>\n",
       "    <tr>\n",
       "      <th id=\"T_d70f3_level0_row1\" class=\"row_heading level0 row1\" >1</th>\n",
       "      <td id=\"T_d70f3_row1_col0\" class=\"data row1 col0\" >eng</td>\n",
       "      <td id=\"T_d70f3_row1_col1\" class=\"data row1 col1\" >3000</td>\n",
       "    </tr>\n",
       "    <tr>\n",
       "      <th id=\"T_d70f3_level0_row2\" class=\"row_heading level0 row2\" >2</th>\n",
       "      <td id=\"T_d70f3_row2_col0\" class=\"data row2 col0\" >nbl</td>\n",
       "      <td id=\"T_d70f3_row2_col1\" class=\"data row2 col1\" >3000</td>\n",
       "    </tr>\n",
       "    <tr>\n",
       "      <th id=\"T_d70f3_level0_row3\" class=\"row_heading level0 row3\" >3</th>\n",
       "      <td id=\"T_d70f3_row3_col0\" class=\"data row3 col0\" >nso</td>\n",
       "      <td id=\"T_d70f3_row3_col1\" class=\"data row3 col1\" >3000</td>\n",
       "    </tr>\n",
       "    <tr>\n",
       "      <th id=\"T_d70f3_level0_row4\" class=\"row_heading level0 row4\" >4</th>\n",
       "      <td id=\"T_d70f3_row4_col0\" class=\"data row4 col0\" >sot</td>\n",
       "      <td id=\"T_d70f3_row4_col1\" class=\"data row4 col1\" >3000</td>\n",
       "    </tr>\n",
       "    <tr>\n",
       "      <th id=\"T_d70f3_level0_row5\" class=\"row_heading level0 row5\" >5</th>\n",
       "      <td id=\"T_d70f3_row5_col0\" class=\"data row5 col0\" >ssw</td>\n",
       "      <td id=\"T_d70f3_row5_col1\" class=\"data row5 col1\" >3000</td>\n",
       "    </tr>\n",
       "    <tr>\n",
       "      <th id=\"T_d70f3_level0_row6\" class=\"row_heading level0 row6\" >6</th>\n",
       "      <td id=\"T_d70f3_row6_col0\" class=\"data row6 col0\" >tsn</td>\n",
       "      <td id=\"T_d70f3_row6_col1\" class=\"data row6 col1\" >3000</td>\n",
       "    </tr>\n",
       "    <tr>\n",
       "      <th id=\"T_d70f3_level0_row7\" class=\"row_heading level0 row7\" >7</th>\n",
       "      <td id=\"T_d70f3_row7_col0\" class=\"data row7 col0\" >tso</td>\n",
       "      <td id=\"T_d70f3_row7_col1\" class=\"data row7 col1\" >3000</td>\n",
       "    </tr>\n",
       "    <tr>\n",
       "      <th id=\"T_d70f3_level0_row8\" class=\"row_heading level0 row8\" >8</th>\n",
       "      <td id=\"T_d70f3_row8_col0\" class=\"data row8 col0\" >ven</td>\n",
       "      <td id=\"T_d70f3_row8_col1\" class=\"data row8 col1\" >3000</td>\n",
       "    </tr>\n",
       "    <tr>\n",
       "      <th id=\"T_d70f3_level0_row9\" class=\"row_heading level0 row9\" >9</th>\n",
       "      <td id=\"T_d70f3_row9_col0\" class=\"data row9 col0\" >xho</td>\n",
       "      <td id=\"T_d70f3_row9_col1\" class=\"data row9 col1\" >3000</td>\n",
       "    </tr>\n",
       "    <tr>\n",
       "      <th id=\"T_d70f3_level0_row10\" class=\"row_heading level0 row10\" >10</th>\n",
       "      <td id=\"T_d70f3_row10_col0\" class=\"data row10 col0\" >zul</td>\n",
       "      <td id=\"T_d70f3_row10_col1\" class=\"data row10 col1\" >3000</td>\n",
       "    </tr>\n",
       "  </tbody>\n",
       "</table>\n"
      ],
      "text/plain": [
       "<pandas.io.formats.style.Styler at 0x207a63b1610>"
      ]
     },
     "metadata": {},
     "output_type": "display_data"
    }
   ],
   "source": [
    "count = train_df.groupby(\"lang_id\").count()[\"text\"].reset_index().sort_values(by=\"lang_id\", ascending=True)\n",
    "display(count.style.background_gradient(cmap=\"Blues\"))"
   ]
  },
  {
   "cell_type": "code",
   "execution_count": 5,
   "id": "e26764ef",
   "metadata": {},
   "outputs": [
    {
     "data": {
      "image/png": "[encoded data removed]",
      "text/plain": [
       "<Figure size 432x288 with 1 Axes>"
      ]
     },
     "metadata": {
      "needs_background": "light"
     },
     "output_type": "display_data"
    }
   ],
   "source": [
    "train_df['lang_id'].value_counts().plot(kind = 'bar')\n",
    "plt.show()"
   ]
  },
  {
   "cell_type": "code",
   "execution_count": 6,
   "id": "5352a231",
   "metadata": {},
   "outputs": [
    {
     "data": {
      "image/png": "[encoded data removed]",
      "text/plain": [
       "<Figure size 432x432 with 1 Axes>"
      ]
     },
     "metadata": {
      "needs_background": "light"
     },
     "output_type": "display_data"
    }
   ],
   "source": [
    "#Display the most recurrent words across all observations in a wordcloud image\n",
    "full_text = \" \".join(train_df['text'])\n",
    "\n",
    "wc = WordCloud(background_color='black')\n",
    "img = wc.generate(full_text)\n",
    "plt.figure(figsize=(6,6))\n",
    "plt.imshow(img)\n",
    "plt.axis('off')\n",
    "plt.show()"
   ]
  },
  {
   "cell_type": "code",
   "execution_count": 7,
   "id": "3a90a4c7",
   "metadata": {},
   "outputs": [
    {
     "name": "stdout",
     "output_type": "stream",
     "text": [
      "prof frikkie van niekerk mokaedi wa setheo sa merero ya badiri baithuti boitshimololedi le dipatlisiso o ne a bolelela herce-vigil ka ga hisetori ya yunibesithi gammogo le photefolio ya yona ya ditshwanelo tsa botlhalefi\n",
      "layisense yi va yi nyikiwile naswona xitifiketi xa layisense xi va xi nyikiwa eka munhu ku ya hi xiyenge lexi a yi hundziseriwi eka unwana munhu hlengeleta hinkwaswo swiviko eka probiti ya rixaka yo tsarisa leyi nga hlamuseriwa ndlela ya kahle na xivumbeko\n",
      "loko kwesaba nekungavikeleki kwenta kutsi kube neminyaka yekuphikisa kuloku sibonga lichawe lakitsi lelaba nesibindzi solomon kalushi mahlangu lowatiphanyeka eminyakeni lengu- leyengca inhloko yakhe ibheke etulu ngelwati lwekutigcabha kutsi ingati yakhe itawutselisa sihlahla senkhululeko\n",
      "taal geletterdheid en kommunikasie wiskundige geletterdheid wiskunde en die wiskundige wetenskappe die kunste en kultuur lewensoriëntering die mens- en sosiale wetenskappe die ekonomiese en bestuurswetenskappe die natuurwetenskappe tegnologie\n",
      "mimpfuno leyi mukomberi a nga na mfanelo ya yona hi ku landza swipimelo swa na ku iii fanele ku hakeriwa mani c pfumelela hakelo ya mimpfuno na ku d lerisa ndlela leyi mimpfuno yi faneleke ku hakeriwa ha yona\n",
      "a ka hloka hore motho ofe kapa ofe ya nang le taolo kapa ya tshwereng tokomane efe kapa efe ho kenyeletswa empa ho sa fellwa ho moralo buka kapa rekoto hore motho eo a hlahise tokomane eo hang hang ho mohlahlobi kapa nako efe kapa efe e nngwe le sebakeng se batlwang ke mohlahlobi\n",
      "iningi lobuthi obuqukethwe wugwayi bungena emntwaneni ongakazalwa buhamba ngegazi likamama okunye wukuthi kulelo gazi umntwana angeke athole i-oksiyini eyanele nezakhamzimba azidingayo ukuze akhule kahle yingakho ubhema ugwayi kuyingozi emntwaneni ongakazalwa\n",
      "ka kgonthe phepo a ya swanela go feta metsotso e le sekamehla sa go nyanya se swanetše gore se hlongwe ka pela ka mo go ka kgonagalago ka morago ga pelego lesea le ka fepiwa ga ntšhi go feta lesea leo le se na go lepharo ka tekanyetšo ga raro ka letšatši\n",
      "manaeo a kgatelopele - ke setlabakelo sa go dirišwa mo mafelelong a ngwaga sa go ngwalolla kgatelopele ya baithuti ka moka mo kreiting go akaretšwa dikhoutu tša kgatelopele mo go a re ya go ithuta ye nngwe le ye nngwe le kreiti ye nngwe le ye nngwe go akaretšwa ditshwaotshwaothekgo ge go tsomega\n",
      "intsilelo ligcisa ukthobela ukuziphatha okumiselwe yimithetho okanye isihlomelo kule mithetho liya kumisela isenzo okanye ukungenzi apho ibhodi iya kuthatha amanyathelo olwaluleko ngokwesahluko iv somthetho\n"
     ]
    }
   ],
   "source": [
    "#Check out sections in the text lenght for each observation to determine what cleaning needs to be done.\n",
    "for text in train_df['text'][50:60]:\n",
    "    print(text)"
   ]
  },
  {
   "cell_type": "markdown",
   "id": "9419b877",
   "metadata": {},
   "source": [
    "##### The texts seem clean enough for tokenization and vectorization in preparation for modelling"
   ]
  },
  {
   "cell_type": "code",
   "execution_count": 8,
   "id": "eb49b05f",
   "metadata": {},
   "outputs": [
    {
     "data": {
      "text/html": [
       "<div>\n",
       "<style scoped>\n",
       "    .dataframe tbody tr th:only-of-type {\n",
       "        vertical-align: middle;\n",
       "    }\n",
       "\n",
       "    .dataframe tbody tr th {\n",
       "        vertical-align: top;\n",
       "    }\n",
       "\n",
       "    .dataframe thead th {\n",
       "        text-align: right;\n",
       "    }\n",
       "</style>\n",
       "<table border=\"1\" class=\"dataframe\">\n",
       "  <thead>\n",
       "    <tr style=\"text-align: right;\">\n",
       "      <th></th>\n",
       "      <th>lang_id</th>\n",
       "      <th>text</th>\n",
       "    </tr>\n",
       "  </thead>\n",
       "  <tbody>\n",
       "    <tr>\n",
       "      <th>0</th>\n",
       "      <td>xho</td>\n",
       "      <td>umgaqo-siseko wenza amalungiselelo kumaziko ax...</td>\n",
       "    </tr>\n",
       "    <tr>\n",
       "      <th>1</th>\n",
       "      <td>xho</td>\n",
       "      <td>i-dha iya kuba nobulumko bokubeka umsebenzi na...</td>\n",
       "    </tr>\n",
       "    <tr>\n",
       "      <th>2</th>\n",
       "      <td>eng</td>\n",
       "      <td>the province of kwazulu-natal department of tr...</td>\n",
       "    </tr>\n",
       "    <tr>\n",
       "      <th>3</th>\n",
       "      <td>nso</td>\n",
       "      <td>o netefatša gore o ba file dilo ka moka tše le...</td>\n",
       "    </tr>\n",
       "    <tr>\n",
       "      <th>4</th>\n",
       "      <td>ven</td>\n",
       "      <td>khomishini ya ndinganyiso ya mbeu yo ewa maana...</td>\n",
       "    </tr>\n",
       "  </tbody>\n",
       "</table>\n",
       "</div>"
      ],
      "text/plain": [
       "  lang_id                                               text\n",
       "0     xho  umgaqo-siseko wenza amalungiselelo kumaziko ax...\n",
       "1     xho  i-dha iya kuba nobulumko bokubeka umsebenzi na...\n",
       "2     eng  the province of kwazulu-natal department of tr...\n",
       "3     nso  o netefatša gore o ba file dilo ka moka tše le...\n",
       "4     ven  khomishini ya ndinganyiso ya mbeu yo ewa maana..."
      ]
     },
     "execution_count": 8,
     "metadata": {},
     "output_type": "execute_result"
    }
   ],
   "source": [
    "#Creating a worked dataframe from the train data that can be concatenated with the train data\n",
    "# test_df1 = test_df.drop('index', axis=1, inplace=False)\n",
    "\n",
    "# #Concatenate both datasets to one for once-through processing/cleaning\n",
    "# df = pd.concat([train_df, test_df1])\n",
    "# df.head()"
   ]
  },
  {
   "cell_type": "code",
   "execution_count": 14,
   "id": "c9a2fbb4",
   "metadata": {},
   "outputs": [],
   "source": [
    "punc_numbers = string.punctuation + '0123456789'\n",
    "\n",
    "def remove_punctuation(post):\n",
    "  \"\"\"This function returns a string item that has no punctuation marks and numbers.\"\"\"\n",
    "  punc_numbers = string.punctuation + '0123456789'\n",
    "  return ''.join([l for l in post if l not in punc_numbers])"
   ]
  },
  {
   "cell_type": "code",
   "execution_count": 15,
   "id": "7e3ddfa7",
   "metadata": {},
   "outputs": [],
   "source": [
    "#removing punctuation in train data\n",
    "train_df['new'] = train_df['text'].apply(remove_punctuation)\n",
    "test_df['new'] = test_df['text'].apply(remove_punctuation)"
   ]
  },
  {
   "cell_type": "code",
   "execution_count": 16,
   "id": "6648f232",
   "metadata": {},
   "outputs": [],
   "source": [
    "#tokenizing\n",
    "tokenizer = TreebankWordTokenizer()\n",
    "\n",
    "#tokenizing train data  ''.join([l for l in post if l not in punc_numbers])\n",
    "train_df['new'] = train_df['new'].apply(tokenizer.tokenize)\n",
    "test_df['new'] =   test_df['new'].apply(tokenizer.tokenize)"
   ]
  },
  {
   "cell_type": "code",
   "execution_count": 17,
   "id": "ea9b0eec",
   "metadata": {},
   "outputs": [],
   "source": [
    "def convert_to_string(text):\n",
    "    return ' '.join(text)\n",
    "\n",
    "train_df['new'] = train_df['new'].apply(convert_to_string)\n",
    "test_df['new'] = test_df['new'].apply(convert_to_string)"
   ]
  },
  {
   "cell_type": "code",
   "execution_count": 18,
   "id": "983ef919",
   "metadata": {},
   "outputs": [
    {
     "data": {
      "text/html": [
       "<div>\n",
       "<style scoped>\n",
       "    .dataframe tbody tr th:only-of-type {\n",
       "        vertical-align: middle;\n",
       "    }\n",
       "\n",
       "    .dataframe tbody tr th {\n",
       "        vertical-align: top;\n",
       "    }\n",
       "\n",
       "    .dataframe thead th {\n",
       "        text-align: right;\n",
       "    }\n",
       "</style>\n",
       "<table border=\"1\" class=\"dataframe\">\n",
       "  <thead>\n",
       "    <tr style=\"text-align: right;\">\n",
       "      <th></th>\n",
       "      <th>lang_id</th>\n",
       "      <th>text</th>\n",
       "      <th>new</th>\n",
       "    </tr>\n",
       "  </thead>\n",
       "  <tbody>\n",
       "    <tr>\n",
       "      <th>32995</th>\n",
       "      <td>tsn</td>\n",
       "      <td>popo ya dipolateforomo tse ke go tlisa boetele...</td>\n",
       "      <td>popo ya dipolateforomo tse ke go tlisa boetele...</td>\n",
       "    </tr>\n",
       "    <tr>\n",
       "      <th>32996</th>\n",
       "      <td>sot</td>\n",
       "      <td>modise mosadi na o ntse o sa utlwe hore thaban...</td>\n",
       "      <td>modise mosadi na o ntse o sa utlwe hore thaban...</td>\n",
       "    </tr>\n",
       "    <tr>\n",
       "      <th>32997</th>\n",
       "      <td>eng</td>\n",
       "      <td>closing date for the submission of completed t...</td>\n",
       "      <td>closing date for the submission of completed t...</td>\n",
       "    </tr>\n",
       "    <tr>\n",
       "      <th>32998</th>\n",
       "      <td>xho</td>\n",
       "      <td>nawuphina umntu ofunyenwe enetyala phantsi kwa...</td>\n",
       "      <td>nawuphina umntu ofunyenwe enetyala phantsi kwa...</td>\n",
       "    </tr>\n",
       "    <tr>\n",
       "      <th>32999</th>\n",
       "      <td>sot</td>\n",
       "      <td>mafapha a mang le ona a lokela ho etsa ditlale...</td>\n",
       "      <td>mafapha a mang le ona a lokela ho etsa ditlale...</td>\n",
       "    </tr>\n",
       "  </tbody>\n",
       "</table>\n",
       "</div>"
      ],
      "text/plain": [
       "      lang_id                                               text  \\\n",
       "32995     tsn  popo ya dipolateforomo tse ke go tlisa boetele...   \n",
       "32996     sot  modise mosadi na o ntse o sa utlwe hore thaban...   \n",
       "32997     eng  closing date for the submission of completed t...   \n",
       "32998     xho  nawuphina umntu ofunyenwe enetyala phantsi kwa...   \n",
       "32999     sot  mafapha a mang le ona a lokela ho etsa ditlale...   \n",
       "\n",
       "                                                     new  \n",
       "32995  popo ya dipolateforomo tse ke go tlisa boetele...  \n",
       "32996  modise mosadi na o ntse o sa utlwe hore thaban...  \n",
       "32997  closing date for the submission of completed t...  \n",
       "32998  nawuphina umntu ofunyenwe enetyala phantsi kwa...  \n",
       "32999  mafapha a mang le ona a lokela ho etsa ditlale...  "
      ]
     },
     "execution_count": 18,
     "metadata": {},
     "output_type": "execute_result"
    }
   ],
   "source": [
    "train_df.tail()"
   ]
  },
  {
   "cell_type": "code",
   "execution_count": 19,
   "id": "7c23de92",
   "metadata": {},
   "outputs": [],
   "source": [
    "#Vectorizing\n",
    "vector = TfidfVectorizer(min_df=5)\n",
    "\n",
    "#Vectorizing train data\n",
    "train_tfidf = vector.fit_transform(train_df.new)"
   ]
  },
  {
   "cell_type": "code",
   "execution_count": 20,
   "id": "4263f156",
   "metadata": {},
   "outputs": [],
   "source": [
    "test_tfidf = vector.transform(test_df.new)"
   ]
  },
  {
   "cell_type": "code",
   "execution_count": 21,
   "id": "06e83e02",
   "metadata": {},
   "outputs": [
    {
     "data": {
      "text/plain": [
       "(33000, 24333)"
      ]
     },
     "metadata": {},
     "output_type": "display_data"
    },
    {
     "data": {
      "text/plain": [
       "(5682, 24333)"
      ]
     },
     "metadata": {},
     "output_type": "display_data"
    }
   ],
   "source": [
    "display(train_tfidf.shape)\n",
    "display(test_tfidf.shape)"
   ]
  },
  {
   "cell_type": "code",
   "execution_count": null,
   "id": "2d27e390",
   "metadata": {},
   "outputs": [],
   "source": []
  },
  {
   "cell_type": "code",
   "execution_count": 24,
   "id": "1e82dd47",
   "metadata": {},
   "outputs": [],
   "source": [
    "# #Transform vectorized train data to a dataframe\n",
    "# vectorized_train_df = pd.DataFrame(train_tfidf, columns=vector.get_feature_names_out())\n",
    "\n",
    "# #Transform vectorized test data to a dataframe\n",
    "# vectorized_test_df = pd.DataFrame(test_tfidf, columns=vector.get_feature_names_out())"
   ]
  },
  {
   "cell_type": "code",
   "execution_count": null,
   "id": "5627247f",
   "metadata": {},
   "outputs": [],
   "source": []
  },
  {
   "cell_type": "code",
   "execution_count": 25,
   "id": "67b7479f",
   "metadata": {
    "scrolled": true
   },
   "outputs": [],
   "source": [
    "# vectorized_train_df.head()"
   ]
  },
  {
   "cell_type": "code",
   "execution_count": 26,
   "id": "05a39a71",
   "metadata": {},
   "outputs": [],
   "source": [
    "#Training dataset\n",
    "train_feat = train_tfidf\n",
    "train_target = train_df['lang_id']\n",
    "\n",
    "#Test dataset\n",
    "test_features =  test_tfidf"
   ]
  },
  {
   "cell_type": "code",
   "execution_count": 27,
   "id": "ccf58a8e",
   "metadata": {},
   "outputs": [],
   "source": [
    "X_train, X_test, y_train, y_test =train_test_split(train_feat, \n",
    "                                                   train_target, \n",
    "                                                   test_size=0.3, \n",
    "                                                   random_state=50)"
   ]
  },
  {
   "cell_type": "code",
   "execution_count": 28,
   "id": "ef774ae6",
   "metadata": {},
   "outputs": [
    {
     "name": "stderr",
     "output_type": "stream",
     "text": [
      "C:\\Users\\User\\anaconda3\\lib\\site-packages\\sklearn\\feature_selection\\_univariate_selection.py:112: UserWarning: Features [0 0 0 0 0 0 0 0 0] are constant.\n",
      "  warnings.warn(\"Features %s are constant.\" % constant_features_idx, UserWarning)\n",
      "C:\\Users\\User\\anaconda3\\lib\\site-packages\\sklearn\\feature_selection\\_univariate_selection.py:113: RuntimeWarning: invalid value encountered in true_divide\n",
      "  f = msb / msw\n"
     ]
    },
    {
     "ename": "AttributeError",
     "evalue": "columns not found",
     "output_type": "error",
     "traceback": [
      "\u001b[1;31m---------------------------------------------------------------------------\u001b[0m",
      "\u001b[1;31mAttributeError\u001b[0m                            Traceback (most recent call last)",
      "\u001b[1;32m<ipython-input-28-c33bda83bca2>\u001b[0m in \u001b[0;36m<module>\u001b[1;34m\u001b[0m\n\u001b[0;32m      6\u001b[0m \u001b[1;33m\u001b[0m\u001b[0m\n\u001b[0;32m      7\u001b[0m \u001b[1;31m#Selecting the Best 4000 features from the train dataset\u001b[0m\u001b[1;33m\u001b[0m\u001b[1;33m\u001b[0m\u001b[1;33m\u001b[0m\u001b[0m\n\u001b[1;32m----> 8\u001b[1;33m \u001b[0mX_train_kbest\u001b[0m \u001b[1;33m=\u001b[0m \u001b[0mX_train\u001b[0m\u001b[1;33m[\u001b[0m\u001b[0mX_train\u001b[0m\u001b[1;33m.\u001b[0m\u001b[0mcolumns\u001b[0m\u001b[1;33m[\u001b[0m\u001b[0mselector\u001b[0m\u001b[1;33m.\u001b[0m\u001b[0mget_support\u001b[0m\u001b[1;33m(\u001b[0m\u001b[0mindices\u001b[0m\u001b[1;33m=\u001b[0m\u001b[1;32mTrue\u001b[0m\u001b[1;33m)\u001b[0m\u001b[1;33m]\u001b[0m\u001b[1;33m]\u001b[0m\u001b[1;33m\u001b[0m\u001b[1;33m\u001b[0m\u001b[0m\n\u001b[0m\u001b[0;32m      9\u001b[0m \u001b[0mX_test_kbest\u001b[0m \u001b[1;33m=\u001b[0m \u001b[0mX_test\u001b[0m\u001b[1;33m[\u001b[0m\u001b[0mX_test\u001b[0m\u001b[1;33m.\u001b[0m\u001b[0mcolumns\u001b[0m\u001b[1;33m[\u001b[0m\u001b[0mselector\u001b[0m\u001b[1;33m.\u001b[0m\u001b[0mget_support\u001b[0m\u001b[1;33m(\u001b[0m\u001b[0mindices\u001b[0m\u001b[1;33m=\u001b[0m\u001b[1;32mTrue\u001b[0m\u001b[1;33m)\u001b[0m\u001b[1;33m]\u001b[0m\u001b[1;33m]\u001b[0m\u001b[1;33m\u001b[0m\u001b[1;33m\u001b[0m\u001b[0m\n",
      "\u001b[1;32m~\\anaconda3\\lib\\site-packages\\scipy\\sparse\\base.py\u001b[0m in \u001b[0;36m__getattr__\u001b[1;34m(self, attr)\u001b[0m\n\u001b[0;32m    685\u001b[0m             \u001b[1;32mreturn\u001b[0m \u001b[0mself\u001b[0m\u001b[1;33m.\u001b[0m\u001b[0mgetnnz\u001b[0m\u001b[1;33m(\u001b[0m\u001b[1;33m)\u001b[0m\u001b[1;33m\u001b[0m\u001b[1;33m\u001b[0m\u001b[0m\n\u001b[0;32m    686\u001b[0m         \u001b[1;32melse\u001b[0m\u001b[1;33m:\u001b[0m\u001b[1;33m\u001b[0m\u001b[1;33m\u001b[0m\u001b[0m\n\u001b[1;32m--> 687\u001b[1;33m             \u001b[1;32mraise\u001b[0m \u001b[0mAttributeError\u001b[0m\u001b[1;33m(\u001b[0m\u001b[0mattr\u001b[0m \u001b[1;33m+\u001b[0m \u001b[1;34m\" not found\"\u001b[0m\u001b[1;33m)\u001b[0m\u001b[1;33m\u001b[0m\u001b[1;33m\u001b[0m\u001b[0m\n\u001b[0m\u001b[0;32m    688\u001b[0m \u001b[1;33m\u001b[0m\u001b[0m\n\u001b[0;32m    689\u001b[0m     \u001b[1;32mdef\u001b[0m \u001b[0mtranspose\u001b[0m\u001b[1;33m(\u001b[0m\u001b[0mself\u001b[0m\u001b[1;33m,\u001b[0m \u001b[0maxes\u001b[0m\u001b[1;33m=\u001b[0m\u001b[1;32mNone\u001b[0m\u001b[1;33m,\u001b[0m \u001b[0mcopy\u001b[0m\u001b[1;33m=\u001b[0m\u001b[1;32mFalse\u001b[0m\u001b[1;33m)\u001b[0m\u001b[1;33m:\u001b[0m\u001b[1;33m\u001b[0m\u001b[1;33m\u001b[0m\u001b[0m\n",
      "\u001b[1;31mAttributeError\u001b[0m: columns not found"
     ]
    }
   ],
   "source": [
    "# Set up selector, choosing score function and number of features to retain\n",
    "selector = SelectKBest(score_func=f_classif, k=4000)\n",
    "\n",
    "# Transform (i.e.: run selection on) the training data\n",
    "fit = selector.fit(X_train, y_train)\n",
    "\n",
    "#Selecting the Best 4000 features from the train dataset\n",
    "X_train_kbest = X_train[X_train.columns[selector.get_support(indices=True)]]\n",
    "X_test_kbest = X_test[X_test.columns[selector.get_support(indices=True)]]"
   ]
  },
  {
   "cell_type": "code",
   "execution_count": null,
   "id": "45c53914",
   "metadata": {},
   "outputs": [],
   "source": [
    "select_columns = X_test_kbest.columns\n",
    "cols = list(select_columns)\n",
    "\n",
    "#Selecting the Best 4000 features from the test dataset\n",
    "test_features_kbest = test_features[cols]"
   ]
  },
  {
   "cell_type": "code",
   "execution_count": 29,
   "id": "7b27646d",
   "metadata": {},
   "outputs": [],
   "source": [
    "# Here 'ovr' indicates that we have selected our One-vs-Rest strategy. \n",
    "logreg = LogisticRegression(multi_class='ovr', random_state=50)\n",
    "\n",
    "#Fitting\n",
    "logreg.fit(X_train, y_train)\n",
    "\n",
    "# Generate predictions\n",
    "y_pred_test = logreg.predict(X_test)"
   ]
  },
  {
   "cell_type": "code",
   "execution_count": 30,
   "id": "65a74e79",
   "metadata": {},
   "outputs": [
    {
     "data": {
      "text/plain": [
       "array(['afr', 'tsn', 'nso', ..., 'sot', 'nbl', 'afr'], dtype=object)"
      ]
     },
     "execution_count": 30,
     "metadata": {},
     "output_type": "execute_result"
    }
   ],
   "source": [
    "y_pred_test"
   ]
  },
  {
   "cell_type": "code",
   "execution_count": 31,
   "id": "2a6067dd",
   "metadata": {},
   "outputs": [
    {
     "data": {
      "text/plain": [
       "0.9954248410822008"
      ]
     },
     "execution_count": 31,
     "metadata": {},
     "output_type": "execute_result"
    }
   ],
   "source": [
    "f1_score = metrics.f1_score(y_test, y_pred_test, average='macro')\n",
    "f1_score"
   ]
  },
  {
   "cell_type": "code",
   "execution_count": null,
   "id": "e5c2a12d",
   "metadata": {},
   "outputs": [],
   "source": [
    "y_pred_test"
   ]
  },
  {
   "cell_type": "code",
   "execution_count": 32,
   "id": "bddbd264",
   "metadata": {},
   "outputs": [
    {
     "data": {
      "text/plain": [
       "array(['tsn', 'nbl', 'ven', ..., 'sot', 'sot', 'zul'], dtype=object)"
      ]
     },
     "execution_count": 32,
     "metadata": {},
     "output_type": "execute_result"
    }
   ],
   "source": [
    "# Generate predictions from test data\n",
    "y_pred_test_df = logreg.predict(test_features)\n",
    "y_pred_test_df"
   ]
  },
  {
   "cell_type": "code",
   "execution_count": 33,
   "id": "fb15f37f",
   "metadata": {},
   "outputs": [],
   "source": [
    "#Creating a submission\n",
    "\n",
    "submission_df = pd.DataFrame({\"index\": test_df['index'],\n",
    "    \"lang_id\": y_pred_test_df})\n",
    "submission_df.to_csv('1stsubmission.csv', index=False)"
   ]
  },
  {
   "cell_type": "code",
   "execution_count": null,
   "id": "b1529a49",
   "metadata": {},
   "outputs": [],
   "source": [
    "sub_temp = pd.read_csv('1stsubmission.csv')\n",
    "sub_temp"
   ]
  },
  {
   "cell_type": "code",
   "execution_count": 41,
   "id": "2e7a089e",
   "metadata": {},
   "outputs": [],
   "source": [
    "# Here 'ovr' indicates that we have selected our One-vs-Rest strategy. \n",
    "from sklearn.naive_bayes import MultinomialNB\n",
    "GNC = MultinomialNB()\n",
    "\n",
    "#Fitting\n",
    "GNC.fit(X_train, y_train)\n",
    "\n",
    "# Generate predictions\n",
    "y_pred_2 = logreg.predict(X_test)# Here 'ovr' indicates that we have selected our One-vs-Rest strategy. \n",
    "\n"
   ]
  },
  {
   "cell_type": "code",
   "execution_count": 43,
   "id": "2ad2bc6c",
   "metadata": {},
   "outputs": [
    {
     "data": {
      "text/plain": [
       "array(['tsn', 'nbl', 'ven', ..., 'sot', 'sot', 'zul'], dtype='<U3')"
      ]
     },
     "execution_count": 43,
     "metadata": {},
     "output_type": "execute_result"
    }
   ],
   "source": [
    "# Generate predictions from test data\n",
    "y_pred_test_df2 = GNC.predict(test_features)\n",
    "y_pred_test_df2"
   ]
  },
  {
   "cell_type": "code",
   "execution_count": null,
   "id": "72013244",
   "metadata": {},
   "outputs": [],
   "source": [
    "submission_df2 = pd.DataFrame({\"index\": test_df['index'],\n",
    "    \"lang_id\": y_pred_test_df2})\n",
    "submission_df2.to_csv('2ndsubmission.csv', index=False)"
   ]
  },
  {
   "cell_type": "code",
   "execution_count": null,
   "id": "2d4d1d4d",
   "metadata": {},
   "outputs": [],
   "source": [
    "names = ['LogisticRegression', 'DTClassifier', 'ForestClassifier', 'XGBClassifier', 'NBClassifier', 'NNClassifier', 'SVMClassifier'\n",
    "        'KNNClassifier']"
   ]
  },
  {
   "cell_type": "code",
   "execution_count": null,
   "id": "2392ad9d",
   "metadata": {},
   "outputs": [],
   "source": [
    "classifiers = [\n",
    "    LogisticRegression(),\n",
    "    DecisionTreeClassifier(),\n",
    "    RandomForestClassifier(),\n",
    "    XGBClassifier(),\n",
    "    GaussianNB(),\n",
    "    MLPClassifier(),\n",
    "    SVC(),\n",
    "    KNeighborsClassifier()\n",
    "]"
   ]
  },
  {
   "cell_type": "code",
   "execution_count": null,
   "id": "0826aeea",
   "metadata": {},
   "outputs": [],
   "source": [
    "model = SVC(kernel='rbf')\n",
    "model.fit(X_train, y_train)\n",
    "y_pred = model.predict(X_test)\n",
    "print('SVC with Hyperparameter kernel= rbf')\n",
    "print('f1 score',f1_score(y_test, y_pred,average=\"macro\"))\n",
    "print('accuracy_score',accuracy_score(y_test, y_pred))"
   ]
  },
  {
   "cell_type": "code",
   "execution_count": null,
   "id": "532a44eb",
   "metadata": {},
   "outputs": [],
   "source": [
    "results = []\n",
    "\n",
    "models= {}\n",
    "confusion= {}\n",
    "class_report= {}\n",
    "\n",
    "\n",
    "for name, clf in zip(names, classifiers):    \n",
    "    print ('Fitting {:s} model...'.format(name))\n",
    "    run_time = %timeit -q -o clf.fit(x_train, y_train)\n",
    "    \n",
    "    print ('... predicting')\n",
    "    y_pred = clf.predict(x_train)   \n",
    "    y_pred_test = clf.predict(x_valid)\n",
    "    \n",
    "    print ('... scoring')\n",
    "    accuracy  = accuracy_score(y_train, y_pred)\n",
    "    precision = precision_score(y_train, y_pred,average=\"macro\")\n",
    "    recall    = recall_score(y_train, y_pred,average=\"macro\")\n",
    "    \n",
    "    f1        = f1_score(y_train, y_pred,average=\"macro\")    \n",
    "    f1_test   = f1_score(y_valid, y_pred_test,average=\"macro\")    \n",
    "    \n",
    "    # Save the results to dictionaries\n",
    "    models[name] = clf    \n",
    "    confusion[name] = confusion_matrix(y_train, y_pred)\n",
    "    class_report[name] = classification_report(y_train, y_pred)\n",
    "    \n",
    "    results.append([name, accuracy, precision, recall, f1, f1_test, run_time.best])\n",
    "\n",
    "    \n",
    "results = pd.DataFrame(results, columns=['Classifier', 'Accuracy', 'Precision', 'Recall', 'F1 Train', 'F1 Test', 'Train Time'])\n",
    "results.set_index('Classifier', inplace= True)\n",
    "\n",
    "print ('... All done!')"
   ]
  },
  {
   "cell_type": "code",
   "execution_count": 118,
   "id": "0769589e",
   "metadata": {
    "scrolled": false
   },
   "outputs": [
    {
     "name": "stdout",
     "output_type": "stream",
     "text": [
      "Fitting LogisticRegression model.....\n"
     ]
    },
    {
     "name": "stderr",
     "output_type": "stream",
     "text": [
      "C:\\Users\\Engr  Dasilva\\anaconda3\\lib\\site-packages\\sklearn\\linear_model\\_logistic.py:814: ConvergenceWarning: lbfgs failed to converge (status=1):\n",
      "STOP: TOTAL NO. of ITERATIONS REACHED LIMIT.\n",
      "\n",
      "Increase the number of iterations (max_iter) or scale the data as shown in:\n",
      "    https://scikit-learn.org/stable/modules/preprocessing.html\n",
      "Please also refer to the documentation for alternative solver options:\n",
      "    https://scikit-learn.org/stable/modules/linear_model.html#logistic-regression\n",
      "  n_iter_i = _check_optimize_result(\n"
     ]
    },
    {
     "name": "stdout",
     "output_type": "stream",
     "text": [
      "..... Predicting\n",
      "..... Predicting\n",
      "..... Scoring\n"
     ]
    },
    {
     "ename": "TypeError",
     "evalue": "'numpy.float64' object is not callable",
     "output_type": "error",
     "traceback": [
      "\u001b[1;31m---------------------------------------------------------------------------\u001b[0m",
      "\u001b[1;31mTypeError\u001b[0m                                 Traceback (most recent call last)",
      "\u001b[1;32m<ipython-input-118-4e895ed26b9d>\u001b[0m in \u001b[0;36m<module>\u001b[1;34m\u001b[0m\n\u001b[0;32m     17\u001b[0m     \u001b[0mprint\u001b[0m\u001b[1;33m(\u001b[0m\u001b[1;34m'..... Scoring'\u001b[0m\u001b[1;33m)\u001b[0m\u001b[1;33m\u001b[0m\u001b[1;33m\u001b[0m\u001b[0m\n\u001b[0;32m     18\u001b[0m     \u001b[0maccuracy\u001b[0m \u001b[1;33m=\u001b[0m \u001b[0mmetrics\u001b[0m\u001b[1;33m.\u001b[0m\u001b[0maccuracy_score\u001b[0m\u001b[1;33m(\u001b[0m\u001b[0my_train\u001b[0m\u001b[1;33m,\u001b[0m \u001b[0my_pred_train\u001b[0m\u001b[1;33m)\u001b[0m \u001b[1;31m# Test Accuracy\u001b[0m\u001b[1;33m\u001b[0m\u001b[1;33m\u001b[0m\u001b[0m\n\u001b[1;32m---> 19\u001b[1;33m     \u001b[0mf1_Score\u001b[0m \u001b[1;33m=\u001b[0m \u001b[0mf1_score\u001b[0m\u001b[1;33m(\u001b[0m\u001b[0my_train\u001b[0m\u001b[1;33m,\u001b[0m \u001b[0my_pred_train\u001b[0m\u001b[1;33m,\u001b[0m \u001b[0maverage\u001b[0m\u001b[1;33m=\u001b[0m\u001b[1;34m'macro'\u001b[0m\u001b[1;33m)\u001b[0m\u001b[1;33m\u001b[0m\u001b[1;33m\u001b[0m\u001b[0m\n\u001b[0m\u001b[0;32m     20\u001b[0m     \u001b[0mf1_Score1\u001b[0m \u001b[1;33m=\u001b[0m \u001b[0mf1_score\u001b[0m\u001b[1;33m(\u001b[0m\u001b[0my_test\u001b[0m\u001b[1;33m,\u001b[0m \u001b[0my_pred_test\u001b[0m\u001b[1;33m,\u001b[0m \u001b[0maverage\u001b[0m\u001b[1;33m=\u001b[0m\u001b[1;34m'macro'\u001b[0m\u001b[1;33m)\u001b[0m\u001b[1;33m\u001b[0m\u001b[1;33m\u001b[0m\u001b[0m\n\u001b[0;32m     21\u001b[0m \u001b[1;33m\u001b[0m\u001b[0m\n",
      "\u001b[1;31mTypeError\u001b[0m: 'numpy.float64' object is not callable"
     ]
    }
   ],
   "source": [
    "results = []\n",
    "models = {}\n",
    "for name, clf in zip(names, classifiers):\n",
    "    print('Fitting {:s} model.....'.format(name))\n",
    "    # We train each model using .fit\n",
    "    clf.fit(X_train_kbest, y_train)\n",
    "    \n",
    "    #Carry out prediction on X_train\n",
    "    print('..... Predicting')\n",
    "    y_pred_train = clf.predict(X_train_kbest)\n",
    "    \n",
    "    #Carry out prediction on X_test\n",
    "    print('..... Predicting')\n",
    "    y_pred_test = clf.predict(X_test_kbest)\n",
    "    \n",
    "    #Score the models with the accuracy and F1_score.\n",
    "    print('..... Scoring')\n",
    "    accuracy = metrics.accuracy_score(y_train, y_pred_train) # Test Accuracy\n",
    "    f1_Score = f1_score(y_train, y_pred_train, average='macro')\n",
    "    f1_Score1 = f1_score(y_test, y_pred_test, average='macro')\n",
    "    \n",
    "    #Save the results to dictionaries\n",
    "    models[name] = clf\n",
    "    \n",
    "    results.append([name, accuracy, f1_Score, f1_Score1])\n",
    "    \n",
    "#Creating a df from the results    \n",
    "results = pd.DataFrame(results, columns=['Classifier', 'Accuracy Score', 'F1 Train', 'F1 Test'])\n",
    "results.set_index('Classifier', inplace=True)"
   ]
  },
  {
   "cell_type": "code",
   "execution_count": null,
   "id": "637d5637",
   "metadata": {},
   "outputs": [],
   "source": []
  }
 ],
 "metadata": {
  "kernelspec": {
   "display_name": "Python 3",
   "language": "python",
   "name": "python3"
  },
  "language_info": {
   "codemirror_mode": {
    "name": "ipython",
    "version": 3
   },
   "file_extension": ".py",
   "mimetype": "text/x-python",
   "name": "python",
   "nbconvert_exporter": "python",
   "pygments_lexer": "ipython3",
   "version": "3.8.8"
  }
 },
 "nbformat": 4,
 "nbformat_minor": 5
}
